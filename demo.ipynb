{
 "cells": [
  {
   "cell_type": "markdown",
   "id": "051483af",
   "metadata": {},
   "source": [
    "# Monte Carlo Option Pricing Demo\n",
    "This notebook demonstrates the pricing of European, Asian, and Barrier options using Monte Carlo simulations in Python. It also includes Greeks calculation and comparison with Black-Scholes formula."
   ]
  },
  {
   "cell_type": "code",
   "execution_count": 2,
   "id": "bdb044db",
   "metadata": {},
   "outputs": [
    {
     "ename": "ModuleNotFoundError",
     "evalue": "No module named 'pricing'",
     "output_type": "error",
     "traceback": [
      "\u001b[0;31m---------------------------------------------------------------------------\u001b[0m",
      "\u001b[0;31mModuleNotFoundError\u001b[0m                       Traceback (most recent call last)",
      "Cell \u001b[0;32mIn[2], line 4\u001b[0m\n\u001b[1;32m      2\u001b[0m \u001b[38;5;28;01mimport\u001b[39;00m \u001b[38;5;21;01mnumpy\u001b[39;00m \u001b[38;5;28;01mas\u001b[39;00m \u001b[38;5;21;01mnp\u001b[39;00m\n\u001b[1;32m      3\u001b[0m \u001b[38;5;28;01mimport\u001b[39;00m \u001b[38;5;21;01mmatplotlib\u001b[39;00m\u001b[38;5;21;01m.\u001b[39;00m\u001b[38;5;21;01mpyplot\u001b[39;00m \u001b[38;5;28;01mas\u001b[39;00m \u001b[38;5;21;01mplt\u001b[39;00m\n\u001b[0;32m----> 4\u001b[0m \u001b[38;5;28;01mfrom\u001b[39;00m \u001b[38;5;21;01mpricing\u001b[39;00m \u001b[38;5;28;01mimport\u001b[39;00m european_call_mc, european_put_mc, black_scholes_call, black_scholes_put\n\u001b[1;32m      5\u001b[0m \u001b[38;5;28;01mfrom\u001b[39;00m \u001b[38;5;21;01mexotic_options\u001b[39;00m \u001b[38;5;28;01mimport\u001b[39;00m asian_call_mc, asian_put_mc, barrier_call_mc\n\u001b[1;32m      6\u001b[0m \u001b[38;5;28;01mfrom\u001b[39;00m \u001b[38;5;21;01mgreeks\u001b[39;00m \u001b[38;5;28;01mimport\u001b[39;00m delta_mc, gamma_mc, vega_mc, theta_mc, rho_mc\n",
      "\u001b[0;31mModuleNotFoundError\u001b[0m: No module named 'pricing'"
     ]
    }
   ],
   "source": [
    "# Import necessary libraries\n",
    "import numpy as np\n",
    "import matplotlib.pyplot as plt\n",
    "from pricing import european_call_mc, european_put_mc, black_scholes_call, black_scholes_put\n",
    "from exotic_options import asian_call_mc, asian_put_mc, barrier_call_mc\n",
    "from greeks import delta_mc, gamma_mc, vega_mc, theta_mc, rho_mc\n",
    "%matplotlib inline"
   ]
  },
  {
   "cell_type": "markdown",
   "id": "0a82ab0d",
   "metadata": {},
   "source": [
    "## Parameters"
   ]
  },
  {
   "cell_type": "code",
   "execution_count": null,
   "id": "90935fa5",
   "metadata": {},
   "outputs": [],
   "source": [
    "S0 = 100      # initial stock price\n",
    "K = 100       # strike price\n",
    "T = 1.0       # time to maturity (1 year)\n",
    "r = 0.05      # risk-free rate\n",
    "sigma = 0.2   # volatility\n",
    "N = 100       # time steps\n",
    "M = 50000     # number of Monte Carlo simulations\n",
    "antithetic = True"
   ]
  },
  {
   "cell_type": "markdown",
   "id": "da1c1321",
   "metadata": {},
   "source": [
    "## European Options Pricing"
   ]
  },
  {
   "cell_type": "code",
   "execution_count": null,
   "id": "2ba739db",
   "metadata": {},
   "outputs": [],
   "source": [
    "call_mc = european_call_mc(S0, K, T, r, sigma, N, M, antithetic)\n",
    "put_mc = european_put_mc(S0, K, T, r, sigma, N, M, antithetic)\n",
    "\n",
    "call_bs = black_scholes_call(S0, K, T, r, sigma)\n",
    "put_bs = black_scholes_put(S0, K, T, r, sigma)\n",
    "\n",
    "print(f\"European Call MC: {call_mc:.4f}\")\n",
    "print(f\"European Put MC: {put_mc:.4f}\")\n",
    "print(f\"European Call BS: {call_bs:.4f}\")\n",
    "print(f\"European Put BS: {put_bs:.4f}\")"
   ]
  },
  {
   "cell_type": "markdown",
   "id": "72d0e0f4",
   "metadata": {},
   "source": [
    "## Exotic Options Pricing"
   ]
  },
  {
   "cell_type": "code",
   "execution_count": null,
   "id": "fb2715b0",
   "metadata": {},
   "outputs": [],
   "source": [
    "# Asian Options\n",
    "asian_call = asian_call_mc(S0, K, T, r, sigma, N, M, antithetic)\n",
    "asian_put = asian_put_mc(S0, K, T, r, sigma, N, M, antithetic)\n",
    "\n",
    "# Barrier Option (Up-and-Out Call)\n",
    "B = 120\n",
    "barrier_call = barrier_call_mc(S0, K, B, T, r, sigma, N, M, antithetic)\n",
    "\n",
    "print(f\"Asian Call MC: {asian_call:.4f}\")\n",
    "print(f\"Asian Put MC: {asian_put:.4f}\")\n",
    "print(f\"Barrier Up-and-Out Call MC: {barrier_call:.4f}\")"
   ]
  },
  {
   "cell_type": "markdown",
   "id": "524145cd",
   "metadata": {},
   "source": [
    "## Greeks Calculation"
   ]
  },
  {
   "cell_type": "code",
   "execution_count": null,
   "id": "2f0f6880",
   "metadata": {},
   "outputs": [],
   "source": [
    "delta = delta_mc('call', S0, K, T, r, sigma, N=N, M=M, antithetic=antithetic)\n",
    "gamma = gamma_mc('call', S0, K, T, r, sigma, N=N, M=M, antithetic=antithetic)\n",
    "vega = vega_mc('call', S0, K, T, r, sigma, N=N, M=M, antithetic=antithetic)\n",
    "theta = theta_mc('call', S0, K, T, r, sigma, N=N, M=M, antithetic=antithetic)\n",
    "rho = rho_mc('call', S0, K, T, r, sigma, N=N, M=M, antithetic=antithetic)\n",
    "\n",
    "print(f\"Delta Call: {delta:.4f}\")\n",
    "print(f\"Gamma Call: {gamma:.4f}\")\n",
    "print(f\"Vega Call: {vega:.4f}\")\n",
    "print(f\"Theta Call: {theta:.4f}\")\n",
    "print(f\"Rho Call: {rho:.4f}\")"
   ]
  },
  {
   "cell_type": "markdown",
   "id": "dd8a7831",
   "metadata": {},
   "source": [
    "## Monte Carlo Convergence Visualization"
   ]
  },
  {
   "cell_type": "code",
   "execution_count": null,
   "id": "99cc1dce",
   "metadata": {},
   "outputs": [],
   "source": [
    "simulations = [100, 500, 1000, 5000, 10000, 20000, 50000]\n",
    "prices = []\n",
    "\n",
    "for M_sim in simulations:\n",
    "    price = european_call_mc(S0, K, T, r, sigma, N, M_sim, antithetic)\n",
    "    prices.append(price)\n",
    "\n",
    "plt.figure(figsize=(8,5))\n",
    "plt.plot(simulations, prices, marker='o')\n",
    "plt.axhline(call_bs, color='r', linestyle='--', label='Black-Scholes Price')\n",
    "plt.xscale('log')\n",
    "plt.xlabel('Number of Simulations (log scale)')\n",
    "plt.ylabel('European Call Price')\n",
    "plt.title('Monte Carlo Convergence')\n",
    "plt.legend()\n",
    "plt.grid(True)\n",
    "plt.show()"
   ]
  },
  {
   "cell_type": "markdown",
   "id": "1e43169d",
   "metadata": {},
   "source": [
    "## Payoff Distribution"
   ]
  },
  {
   "cell_type": "code",
   "execution_count": null,
   "id": "f859c8c0",
   "metadata": {},
   "outputs": [],
   "source": [
    "S = european_call_mc.__globals__['simulate_gbm'](S0, T, r, sigma, N, M, antithetic)\n",
    "payoffs = np.maximum(S[:,-1] - K, 0)\n",
    "\n",
    "plt.figure(figsize=(8,5))\n",
    "plt.hist(payoffs, bins=50, alpha=0.7, color='skyblue', edgecolor='black')\n",
    "plt.xlabel('Payoff')\n",
    "plt.ylabel('Frequency')\n",
    "plt.title('Distribution of European Call Payoffs')\n",
    "plt.grid(True)\n",
    "plt.show()"
   ]
  }
 ],
 "metadata": {
  "kernelspec": {
   "display_name": "Python 3 (ipykernel)",
   "language": "python",
   "name": "python3"
  },
  "language_info": {
   "codemirror_mode": {
    "name": "ipython",
    "version": 3
   },
   "file_extension": ".py",
   "mimetype": "text/x-python",
   "name": "python",
   "nbconvert_exporter": "python",
   "pygments_lexer": "ipython3",
   "version": "3.12.7"
  }
 },
 "nbformat": 4,
 "nbformat_minor": 5
}
