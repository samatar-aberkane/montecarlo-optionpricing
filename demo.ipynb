{
 "cells": [
  {
   "cell_type": "markdown",
   "id": "36d28b7c",
   "metadata": {},
   "source": [
    "# Option Pricing Engine Demo\n",
    "\n",
    "This notebook provides a complete demonstration of the Monte Carlo option pricing engine, including pricing of European and exotic options, Greeks calculation, and convergence analysis."
   ]
  },
  {
   "cell_type": "markdown",
   "id": "a0b40c0c",
   "metadata": {},
   "source": [
    "## 1. Setup and Imports\n",
    "\n",
    "We begin by importing all necessary classes and functions from the project's files."
   ]
  },
  {
   "cell_type": "code",
   "execution_count": 1,
   "id": "33f1c1f4",
   "metadata": {},
   "outputs": [],
   "source": [
    "import numpy as np\n",
    "import pandas as pd\n",
    "import matplotlib.pyplot as plt\n",
    "import seaborn as sns\n",
    "from typing import Dict, Any, Callable, Optional, List\n",
    "\n",
    "# Local files must be in the same directory as the notebook\n",
    "from pricing import MCPricingEngine, black_scholes_call, black_scholes_put\n",
    "from exotic_options import ExoticOptionsEngine\n",
    "from greeks import GreeksEngine\n",
    "from convergence_analysis import ConvergenceAnalyzer\n",
    "\n",
    "# Configure matplotlib display settings for better plots\n",
    "plt.style.use('seaborn-v0_8-whitegrid')\n",
    "sns.set_palette(\"husl\")"
   ]
  },
  {
   "cell_type": "markdown",
   "id": "93aa3cae",
   "metadata": {},
   "source": [
    "## 2. Defining Option Parameters\n",
    "\n",
    "Here we set the standard financial parameters that will be used for the various simulations."
   ]
  },
  {
   "cell_type": "code",
   "execution_count": 2,
   "id": "38cc49a2",
   "metadata": {},
   "outputs": [],
   "source": [
    "# Standard parameters for options\n",
    "S0 = 100.0   # Initial stock price\n",
    "K = 100.0    # Strike price\n",
    "T = 1.0      # Time to maturity (in years)\n",
    "r = 0.05     # Risk-free rate\n",
    "sigma = 0.2  # Volatility\n",
    "M = 100000   # Number of simulations (paths)\n",
    "N = 100      # Number of time steps"
   ]
  },
  {
   "cell_type": "markdown",
   "id": "f9178c97",
   "metadata": {},
   "source": [
    "## 3. Pricing European Options\n",
    "\n",
    "We use the Monte Carlo pricing engine and compare the results with the analytical Black-Scholes solution for validation. **Antithetic variates** are enabled by default for improved efficiency."
   ]
  },
  {
   "cell_type": "code",
   "execution_count": 3,
   "id": "0e8377ea",
   "metadata": {},
   "outputs": [
    {
     "name": "stdout",
     "output_type": "stream",
     "text": [
      "--- European Option Pricing ---\n",
      "Theoretical (Black-Scholes) call price: 10.450584\n",
      "Theoretical (Black-Scholes) put price:  5.573526\n",
      "\n",
      "--- Monte Carlo Pricing ---\n",
      "MC Call Price (Antithetic): 10.452439 (Error: 0.001855)\n",
      "MC Put Price (Antithetic):  5.598402 (Error: 0.024876)\n"
     ]
    }
   ],
   "source": [
    "print(\"--- European Option Pricing ---\")\n",
    "\n",
    "# Initialize the pricing engine\n",
    "engine = MCPricingEngine(seed=42)\n",
    "\n",
    "# Analytical price (Black-Scholes) for reference\n",
    "bs_call_price = black_scholes_call(S0, K, T, r, sigma)\n",
    "bs_put_price = black_scholes_put(S0, K, T, r, sigma)\n",
    "\n",
    "print(f\"Theoretical (Black-Scholes) call price: {bs_call_price:.6f}\")\n",
    "print(f\"Theoretical (Black-Scholes) put price:  {bs_put_price:.6f}\")\n",
    "\n",
    "print(\"\\n--- Monte Carlo Pricing ---\")\n",
    "\n",
    "# Pricing a European call with antithetic variates\n",
    "mc_call_price = engine.european_call_mc(S0, K, T, r, sigma, M=M, antithetic=True)\n",
    "mc_put_price = engine.european_put_mc(S0, K, T, r, sigma, M=M, antithetic=True)\n",
    "\n",
    "print(f\"MC Call Price (Antithetic): {mc_call_price:.6f} (Error: {abs(mc_call_price - bs_call_price):.6f})\")\n",
    "print(f\"MC Put Price (Antithetic):  {mc_put_price:.6f} (Error: {abs(mc_put_price - bs_put_price):.6f})\")"
   ]
  },
  {
   "cell_type": "markdown",
   "id": "aede4dd5",
   "metadata": {},
   "source": [
    "## 4. Variance Reduction with Control Variates\n",
    "\n",
    "This section demonstrates the effectiveness of **control variates** in improving the accuracy of the Monte Carlo price estimate by significantly reducing the variance of the results."
   ]
  },
  {
   "cell_type": "code",
   "execution_count": 4,
   "id": "c1e21840",
   "metadata": {},
   "outputs": [
    {
     "name": "stdout",
     "output_type": "stream",
     "text": [
      "--- Improvement with Control Variates ---\n",
      "MC Price without Control Variate: 10.460005 (Error: 0.009421)\n",
      "MC Price with Control Variate: 10.459499 (Error: 0.008915)\n"
     ]
    }
   ],
   "source": [
    "print(\"--- Improvement with Control Variates ---\")\n",
    "\n",
    "# Pricing a call with control variates\n",
    "mc_plain_price, mc_cv_price = engine.european_call_mc(\n",
    "    S0, K, T, r, sigma, M=M, antithetic=True, control_variate=True\n",
    ")\n",
    "\n",
    "print(f\"MC Price without Control Variate: {mc_plain_price:.6f} (Error: {abs(mc_plain_price - bs_call_price):.6f})\")\n",
    "print(f\"MC Price with Control Variate: {mc_cv_price:.6f} (Error: {abs(mc_cv_price - bs_call_price):.6f})\")"
   ]
  },
  {
   "cell_type": "markdown",
   "id": "6cb4b2b3",
   "metadata": {},
   "source": [
    "## 5. Pricing Exotic Options\n",
    "\n",
    "The engine is designed to handle more complex path-dependent options, such as Asian or Barrier options."
   ]
  },
  {
   "cell_type": "code",
   "execution_count": 5,
   "id": "e31a676f",
   "metadata": {},
   "outputs": [
    {
     "name": "stdout",
     "output_type": "stream",
     "text": [
      "--- Exotic Option Pricing ---\n",
      "MC Asian Call Price: 5.814062\n",
      "MC Barrier Call Price: 1.333541\n"
     ]
    }
   ],
   "source": [
    "print(\"--- Exotic Option Pricing ---\")\n",
    "\n",
    "exotic_engine = ExoticOptionsEngine(seed=42)\n",
    "M_exotic = 50000 # Fewer simulations for exotic options\n",
    "N_exotic = 252 # More time steps for path-dependent options\n",
    "\n",
    "# Asian option (arithmetic average)\n",
    "asian_price = exotic_engine.asian_call_mc(S0, K, T, r, sigma, M=M_exotic, N=N_exotic, antithetic=True)\n",
    "print(f\"MC Asian Call Price: {asian_price:.6f}\")\n",
    "\n",
    "# Barrier option (Up-and-Out)\n",
    "B = 120.0 # Barrier level\n",
    "barrier_price = exotic_engine.barrier_up_out_call_mc(S0, K, B, T, r, sigma, M=M_exotic, N=N_exotic, antithetic=True)\n",
    "print(f\"MC Barrier Call Price: {barrier_price:.6f}\")"
   ]
  },
  {
   "cell_type": "markdown",
   "id": "d4ea1f30",
   "metadata": {},
   "source": [
    "## 6. Greeks Calculation\n",
    "\n",
    "Greeks are measures of an option's sensitivity to changes in underlying parameters. We calculate them here using the **finite difference** method."
   ]
  },
  {
   "cell_type": "code",
   "execution_count": 6,
   "id": "0ece1015",
   "metadata": {},
   "outputs": [
    {
     "name": "stdout",
     "output_type": "stream",
     "text": [
      "--- Greeks Calculation ---\n",
      "Greeks (Finite Differences):\n",
      "  Delta: -6.624400\n",
      "  Gamma: -1560156.761337\n",
      "  Vega: 37.686783\n",
      "  Theta: -20.315488\n",
      "  Rho: 51.189317\n",
      "\n",
      "Delta (pathwise method): 0.637394\n"
     ]
    }
   ],
   "source": [
    "print(\"--- Greeks Calculation ---\")\n",
    "\n",
    "greeks_engine = GreeksEngine(seed=42)\n",
    "\n",
    "# Define parameters for Greeks calculation\n",
    "params = {'S0': S0, 'K': K, 'T': T, 'r': r, 'sigma': sigma, 'M': M}\n",
    "\n",
    "# Calculate all Greeks using the central finite difference method\n",
    "all_greeks = greeks_engine.compute_all_greeks(\n",
    "    pricing_func=engine.european_call_mc,\n",
    "    params=params,\n",
    "    method='central'\n",
    ")\n",
    "print(\"Greeks (Finite Differences):\")\n",
    "for greek, value in all_greeks.items():\n",
    "    print(f\"  {greek.capitalize()}: {value:.6f}\")\n",
    "    \n",
    "# Calculate Delta using the pathwise method (more accurate for smooth options)\n",
    "pathwise_delta = greeks_engine.pathwise_delta(S0, K, T, r, sigma, 'call', M=M)\n",
    "print(f\"\\nDelta (pathwise method): {pathwise_delta:.6f}\")"
   ]
  },
  {
   "cell_type": "markdown",
   "id": "b91b7c9e",
   "metadata": {},
   "source": [
    "## 7. Convergence Analysis\n",
    "\n",
    "This final section shows how the accuracy of the Monte Carlo estimate improves as the number of simulations increases, demonstrating the convergence law of $O(1/\\sqrt{M})$."
   ]
  },
  {
   "cell_type": "code",
   "execution_count": 8,
   "id": "a083f1fa",
   "metadata": {},
   "outputs": [
    {
     "name": "stdout",
     "output_type": "stream",
     "text": [
      "--- Monte Carlo Convergence Analysis ---\n"
     ]
    },
    {
     "ename": "TypeError",
     "evalue": "MCPricingEngine.european_call_mc() got an unexpected keyword argument 'seed'",
     "output_type": "error",
     "traceback": [
      "\u001b[31m---------------------------------------------------------------------------\u001b[39m",
      "\u001b[31mTypeError\u001b[39m                                 Traceback (most recent call last)",
      "\u001b[36mCell\u001b[39m\u001b[36m \u001b[39m\u001b[32mIn[8]\u001b[39m\u001b[32m, line 13\u001b[39m\n\u001b[32m     10\u001b[39m true_price = black_scholes_call(S0, K, T, r, sigma)\n\u001b[32m     12\u001b[39m \u001b[38;5;66;03m# Analyze convergence\u001b[39;00m\n\u001b[32m---> \u001b[39m\u001b[32m13\u001b[39m convergence_results = \u001b[43manalyzer\u001b[49m\u001b[43m.\u001b[49m\u001b[43mmonte_carlo_convergence\u001b[49m\u001b[43m(\u001b[49m\n\u001b[32m     14\u001b[39m \u001b[43m    \u001b[49m\u001b[43mpricing_func\u001b[49m\u001b[43m=\u001b[49m\u001b[43mengine\u001b[49m\u001b[43m.\u001b[49m\u001b[43meuropean_call_mc\u001b[49m\u001b[43m,\u001b[49m\n\u001b[32m     15\u001b[39m \u001b[43m    \u001b[49m\u001b[43mtrue_price\u001b[49m\u001b[43m=\u001b[49m\u001b[43mtrue_price\u001b[49m\u001b[43m,\u001b[49m\n\u001b[32m     16\u001b[39m \u001b[43m    \u001b[49m\u001b[43mM_values\u001b[49m\u001b[43m=\u001b[49m\u001b[43mM_values\u001b[49m\u001b[43m,\u001b[49m\n\u001b[32m     17\u001b[39m \u001b[43m    \u001b[49m\u001b[43mn_trials\u001b[49m\u001b[43m=\u001b[49m\u001b[43mn_trials\u001b[49m\u001b[43m,\u001b[49m\n\u001b[32m     18\u001b[39m \u001b[43m    \u001b[49m\u001b[43mS0\u001b[49m\u001b[43m=\u001b[49m\u001b[43mS0\u001b[49m\u001b[43m,\u001b[49m\u001b[43m \u001b[49m\u001b[43mK\u001b[49m\u001b[43m=\u001b[49m\u001b[43mK\u001b[49m\u001b[43m,\u001b[49m\u001b[43m \u001b[49m\u001b[43mT\u001b[49m\u001b[43m=\u001b[49m\u001b[43mT\u001b[49m\u001b[43m,\u001b[49m\u001b[43m \u001b[49m\u001b[43mr\u001b[49m\u001b[43m=\u001b[49m\u001b[43mr\u001b[49m\u001b[43m,\u001b[49m\u001b[43m \u001b[49m\u001b[43msigma\u001b[49m\u001b[43m=\u001b[49m\u001b[43msigma\u001b[49m\u001b[43m,\u001b[49m\u001b[43m \u001b[49m\u001b[43mantithetic\u001b[49m\u001b[43m=\u001b[49m\u001b[38;5;28;43;01mTrue\u001b[39;49;00m\n\u001b[32m     19\u001b[39m \u001b[43m)\u001b[49m\n\u001b[32m     21\u001b[39m \u001b[38;5;66;03m# Plot the results\u001b[39;00m\n\u001b[32m     22\u001b[39m fig = analyzer.plot_convergence(convergence_results, true_price, title=\u001b[33m\"\u001b[39m\u001b[33mConvergence of European Option Price\u001b[39m\u001b[33m\"\u001b[39m)\n",
      "\u001b[36mFile \u001b[39m\u001b[32m~/Desktop/GitHub/montecarlo-optionpricing/convergence_analysis.py:69\u001b[39m, in \u001b[36mConvergenceAnalyzer.monte_carlo_convergence\u001b[39m\u001b[34m(self, pricing_func, true_price, M_values, n_trials, **kwargs)\u001b[39m\n\u001b[32m     67\u001b[39m \u001b[38;5;28;01mfor\u001b[39;00m j \u001b[38;5;129;01min\u001b[39;00m \u001b[38;5;28mrange\u001b[39m(n_trials):\n\u001b[32m     68\u001b[39m     kwargs_trial[\u001b[33m'\u001b[39m\u001b[33mseed\u001b[39m\u001b[33m'\u001b[39m] = base_seed + j\n\u001b[32m---> \u001b[39m\u001b[32m69\u001b[39m     price = \u001b[43mpricing_func\u001b[49m\u001b[43m(\u001b[49m\u001b[43m*\u001b[49m\u001b[43m*\u001b[49m\u001b[43mkwargs_trial\u001b[49m\u001b[43m)\u001b[49m\n\u001b[32m     71\u001b[39m     \u001b[38;5;66;03m# Handle tuple return from control variates\u001b[39;00m\n\u001b[32m     72\u001b[39m     \u001b[38;5;28;01mif\u001b[39;00m \u001b[38;5;28misinstance\u001b[39m(price, \u001b[38;5;28mtuple\u001b[39m):\n",
      "\u001b[31mTypeError\u001b[39m: MCPricingEngine.european_call_mc() got an unexpected keyword argument 'seed'"
     ]
    }
   ],
   "source": [
    "print(\"--- Monte Carlo Convergence Analysis ---\")\n",
    "\n",
    "analyzer = ConvergenceAnalyzer(seed=42)\n",
    "\n",
    "# Define the number of simulations to test\n",
    "M_values = np.logspace(3, 6, 10, dtype=int)\n",
    "n_trials = 20  # Number of trials per M value for better statistics\n",
    "\n",
    "# Theoretical price for comparison\n",
    "true_price = black_scholes_call(S0, K, T, r, sigma)\n",
    "\n",
    "# Analyze convergence\n",
    "convergence_results = analyzer.monte_carlo_convergence(\n",
    "    pricing_func=engine.european_call_mc,\n",
    "    true_price=true_price,\n",
    "    M_values=M_values,\n",
    "    n_trials=n_trials,\n",
    "    S0=S0, K=K, T=T, r=r, sigma=sigma, antithetic=True\n",
    ")\n",
    "\n",
    "# Plot the results\n",
    "fig = analyzer.plot_convergence(convergence_results, true_price, title=\"Convergence of European Option Price\")\n",
    "plt.show(fig)"
   ]
  },
  {
   "cell_type": "markdown",
   "id": "6ecc584b",
   "metadata": {},
   "source": [
    "## 8. Variance Reduction Analysis (Quick Overview)"
   ]
  },
  {
   "cell_type": "code",
   "execution_count": 9,
   "id": "5f65ec1c",
   "metadata": {
    "scrolled": true
   },
   "outputs": [
    {
     "name": "stdout",
     "output_type": "stream",
     "text": [
      "--- Variance Reduction Analysis ---\n",
      "MC Variance without Control: 0.00093714\n",
      "MC Variance with Control: 0.00048125\n",
      "Variance Reduction: 1.95x\n",
      "Net Efficiency Gain: 1.96x\n"
     ]
    }
   ],
   "source": [
    "print(\"--- Variance Reduction Analysis ---\")\n",
    "\n",
    "cv_results = analyzer.control_variates_analysis(\n",
    "    pricing_func=engine.european_call_mc,\n",
    "    true_price=true_price,\n",
    "    M=M,\n",
    "    n_trials=50,\n",
    "    S0=S0, K=K, T=T, r=r, sigma=sigma, antithetic=True\n",
    ")\n",
    "\n",
    "print(f\"MC Variance without Control: {cv_results['plain_variance']:.8f}\")\n",
    "print(f\"MC Variance with Control: {cv_results['cv_variance']:.8f}\")\n",
    "print(f\"Variance Reduction: {cv_results['variance_reduction']:.2f}x\")\n",
    "print(f\"Net Efficiency Gain: {cv_results['efficiency']:.2f}x\")"
   ]
  },
  {
   "cell_type": "code",
   "execution_count": null,
   "id": "0f3fa022-49bd-4d8b-b717-6034ae8f4c7c",
   "metadata": {},
   "outputs": [],
   "source": []
  }
 ],
 "metadata": {
  "kernelspec": {
   "display_name": "Python 3 (ipykernel)",
   "language": "python",
   "name": "python3"
  },
  "language_info": {
   "codemirror_mode": {
    "name": "ipython",
    "version": 3
   },
   "file_extension": ".py",
   "mimetype": "text/x-python",
   "name": "python",
   "nbconvert_exporter": "python",
   "pygments_lexer": "ipython3",
   "version": "3.12.7"
  }
 },
 "nbformat": 4,
 "nbformat_minor": 5
}
