{
 "cells": [
  {
   "cell_type": "markdown",
   "id": "36d28b7c",
   "metadata": {},
   "source": [
    "# Option Pricing Engine Demo\n",
    "\n",
    "This notebook provides a complete demonstration of the Monte Carlo option pricing engine, including pricing of European and exotic options, Greeks calculation, and convergence analysis."
   ]
  },
  {
   "cell_type": "markdown",
   "id": "a0b40c0c",
   "metadata": {},
   "source": [
    "## 1. Setup and Imports\n",
    "\n",
    "We begin by importing all necessary classes and functions from the project's files."
   ]
  },
  {
   "cell_type": "code",
   "execution_count": 8,
   "id": "33f1c1f4",
   "metadata": {},
   "outputs": [
    {
     "ename": "ModuleNotFoundError",
     "evalue": "No module named 'numpy'",
     "output_type": "error",
     "traceback": [
      "\u001b[0;31m---------------------------------------------------------------------------\u001b[0m",
      "\u001b[0;31mModuleNotFoundError\u001b[0m                       Traceback (most recent call last)",
      "Cell \u001b[0;32mIn[8], line 1\u001b[0m\n\u001b[0;32m----> 1\u001b[0m \u001b[38;5;28;01mimport\u001b[39;00m\u001b[38;5;250m \u001b[39m\u001b[38;5;21;01mnumpy\u001b[39;00m\u001b[38;5;250m \u001b[39m\u001b[38;5;28;01mas\u001b[39;00m\u001b[38;5;250m \u001b[39m\u001b[38;5;21;01mnp\u001b[39;00m\n\u001b[1;32m      2\u001b[0m \u001b[38;5;28;01mimport\u001b[39;00m\u001b[38;5;250m \u001b[39m\u001b[38;5;21;01mpandas\u001b[39;00m\u001b[38;5;250m \u001b[39m\u001b[38;5;28;01mas\u001b[39;00m\u001b[38;5;250m \u001b[39m\u001b[38;5;21;01mpd\u001b[39;00m\n\u001b[1;32m      3\u001b[0m \u001b[38;5;28;01mimport\u001b[39;00m\u001b[38;5;250m \u001b[39m\u001b[38;5;21;01mmatplotlib\u001b[39;00m\u001b[38;5;21;01m.\u001b[39;00m\u001b[38;5;21;01mpyplot\u001b[39;00m\u001b[38;5;250m \u001b[39m\u001b[38;5;28;01mas\u001b[39;00m\u001b[38;5;250m \u001b[39m\u001b[38;5;21;01mplt\u001b[39;00m\n",
      "\u001b[0;31mModuleNotFoundError\u001b[0m: No module named 'numpy'"
     ]
    }
   ],
   "source": [
    "import numpy as np\n",
    "import pandas as pd\n",
    "import matplotlib.pyplot as plt\n",
    "import seaborn as sns\n",
    "from typing import Dict, Any, Callable, Optional, List\n",
    "\n",
    "# Local files must be in the same directory as the notebook\n",
    "from pricing import MCPricingEngine, black_scholes_call, black_scholes_put\n",
    "from exotic_options import ExoticOptionsEngine\n",
    "from greeks import GreeksEngine\n",
    "from convergence_analysis import ConvergenceAnalyzer\n",
    "\n",
    "# Configure matplotlib display settings for better plots\n",
    "plt.style.use('seaborn-v0_8-whitegrid')\n",
    "sns.set_palette(\"husl\")"
   ]
  },
  {
   "cell_type": "markdown",
   "id": "93aa3cae",
   "metadata": {},
   "source": [
    "## 2. Defining Option Parameters\n",
    "\n",
    "Here we set the standard financial parameters that will be used for the various simulations."
   ]
  },
  {
   "cell_type": "code",
   "execution_count": 3,
   "id": "38cc49a2",
   "metadata": {},
   "outputs": [],
   "source": [
    "# Standard parameters for options\n",
    "S0 = 100.0   # Initial stock price\n",
    "K = 100.0    # Strike price\n",
    "T = 1.0      # Time to maturity (in years)\n",
    "r = 0.05     # Risk-free rate\n",
    "sigma = 0.2  # Volatility\n",
    "M = 100000   # Number of simulations (paths)\n",
    "N = 100      # Number of time steps"
   ]
  },
  {
   "cell_type": "markdown",
   "id": "f9178c97",
   "metadata": {},
   "source": [
    "## 3. Pricing European Options\n",
    "\n",
    "We use the Monte Carlo pricing engine and compare the results with the analytical Black-Scholes solution for validation. **Antithetic variates** are enabled by default for improved efficiency."
   ]
  },
  {
   "cell_type": "code",
   "execution_count": 5,
   "id": "0e8377ea",
   "metadata": {},
   "outputs": [
    {
     "name": "stdout",
     "output_type": "stream",
     "text": [
      "--- European Option Pricing ---\n"
     ]
    },
    {
     "ename": "NameError",
     "evalue": "name 'MCPricingEngine' is not defined",
     "output_type": "error",
     "traceback": [
      "\u001b[0;31m---------------------------------------------------------------------------\u001b[0m",
      "\u001b[0;31mNameError\u001b[0m                                 Traceback (most recent call last)",
      "Cell \u001b[0;32mIn[5], line 4\u001b[0m\n\u001b[1;32m      1\u001b[0m \u001b[38;5;28mprint\u001b[39m(\u001b[38;5;124m\"\u001b[39m\u001b[38;5;124m--- European Option Pricing ---\u001b[39m\u001b[38;5;124m\"\u001b[39m)\n\u001b[1;32m      3\u001b[0m \u001b[38;5;66;03m# Initialize the pricing engine\u001b[39;00m\n\u001b[0;32m----> 4\u001b[0m engine \u001b[38;5;241m=\u001b[39m \u001b[43mMCPricingEngine\u001b[49m(seed\u001b[38;5;241m=\u001b[39m\u001b[38;5;241m42\u001b[39m)\n\u001b[1;32m      6\u001b[0m \u001b[38;5;66;03m# Analytical price (Black-Scholes) for reference\u001b[39;00m\n\u001b[1;32m      7\u001b[0m bs_call_price \u001b[38;5;241m=\u001b[39m black_scholes_call(S0, K, T, r, sigma)\n",
      "\u001b[0;31mNameError\u001b[0m: name 'MCPricingEngine' is not defined"
     ]
    }
   ],
   "source": [
    "print(\"--- European Option Pricing ---\")\n",
    "\n",
    "# Initialize the pricing engine\n",
    "engine = MCPricingEngine(seed=42)\n",
    "\n",
    "# Analytical price (Black-Scholes) for reference\n",
    "bs_call_price = black_scholes_call(S0, K, T, r, sigma)\n",
    "bs_put_price = black_scholes_put(S0, K, T, r, sigma)\n",
    "\n",
    "print(f\"Theoretical (Black-Scholes) call price: {bs_call_price:.6f}\")\n",
    "print(f\"Theoretical (Black-Scholes) put price:  {bs_put_price:.6f}\")\n",
    "\n",
    "print(\"\\n--- Monte Carlo Pricing ---\")\n",
    "\n",
    "# Pricing a European call with antithetic variates\n",
    "mc_call_price = engine.european_call_mc(S0, K, T, r, sigma, M=M, antithetic=True)\n",
    "mc_put_price = engine.european_put_mc(S0, K, T, r, sigma, M=M, antithetic=True)\n",
    "\n",
    "print(f\"MC Call Price (Antithetic): {mc_call_price:.6f} (Error: {abs(mc_call_price - bs_call_price):.6f})\")\n",
    "print(f\"MC Put Price (Antithetic):  {mc_put_price:.6f} (Error: {abs(mc_put_price - bs_put_price):.6f})\")"
   ]
  },
  {
   "cell_type": "markdown",
   "id": "aede4dd5",
   "metadata": {},
   "source": [
    "## 4. Variance Reduction with Control Variates\n",
    "\n",
    "This section demonstrates the effectiveness of **control variates** in improving the accuracy of the Monte Carlo price estimate by significantly reducing the variance of the results."
   ]
  },
  {
   "cell_type": "code",
   "execution_count": 7,
   "id": "c1e21840",
   "metadata": {},
   "outputs": [
    {
     "name": "stdout",
     "output_type": "stream",
     "text": [
      "--- Improvement with Control Variates ---\n",
      "MC Price without Control Variate: 10.460005 (Error: 0.009421)\n",
      "MC Price with Control Variate: 10.459499 (Error: 0.008915)\n"
     ]
    }
   ],
   "source": [
    "print(\"--- Improvement with Control Variates ---\")\n",
    "\n",
    "# Pricing a call with control variates\n",
    "mc_plain_price, mc_cv_price = engine.european_call_mc(\n",
    "    S0, K, T, r, sigma, M=M, antithetic=True, control_variate=True\n",
    ")\n",
    "\n",
    "print(f\"MC Price without Control Variate: {mc_plain_price:.6f} (Error: {abs(mc_plain_price - bs_call_price):.6f})\")\n",
    "print(f\"MC Price with Control Variate: {mc_cv_price:.6f} (Error: {abs(mc_cv_price - bs_call_price):.6f})\")"
   ]
  },
  {
   "cell_type": "markdown",
   "id": "6cb4b2b3",
   "metadata": {},
   "source": [
    "## 5. Pricing Exotic Options\n",
    "\n",
    "The engine is designed to handle more complex path-dependent options, such as Asian or Barrier options."
   ]
  },
  {
   "cell_type": "code",
   "execution_count": 9,
   "id": "e31a676f",
   "metadata": {},
   "outputs": [
    {
     "name": "stdout",
     "output_type": "stream",
     "text": [
      "--- Exotic Option Pricing ---\n",
      "MC Asian Call Price: 5.814062\n",
      "MC Barrier Call Price: 1.333541\n"
     ]
    }
   ],
   "source": [
    "print(\"--- Exotic Option Pricing ---\")\n",
    "\n",
    "exotic_engine = ExoticOptionsEngine(seed=42)\n",
    "M_exotic = 50000 # Fewer simulations for exotic options\n",
    "N_exotic = 252 # More time steps for path-dependent options\n",
    "\n",
    "# Asian option (arithmetic average)\n",
    "asian_price = exotic_engine.asian_call_mc(S0, K, T, r, sigma, M=M_exotic, N=N_exotic, antithetic=True)\n",
    "print(f\"MC Asian Call Price: {asian_price:.6f}\")\n",
    "\n",
    "# Barrier option (Up-and-Out)\n",
    "B = 120.0 # Barrier level\n",
    "barrier_price = exotic_engine.barrier_up_out_call_mc(S0, K, B, T, r, sigma, M=M_exotic, N=N_exotic, antithetic=True)\n",
    "print(f\"MC Barrier Call Price: {barrier_price:.6f}\")"
   ]
  },
  {
   "cell_type": "markdown",
   "id": "d4ea1f30",
   "metadata": {},
   "source": [
    "## 6. Greeks Calculation\n",
    "\n",
    "Greeks are measures of an option's sensitivity to changes in underlying parameters. We calculate them here using the **finite difference** method."
   ]
  },
  {
   "cell_type": "code",
   "execution_count": 11,
   "id": "0ece1015",
   "metadata": {},
   "outputs": [
    {
     "name": "stdout",
     "output_type": "stream",
     "text": [
      "--- Greeks Calculation ---\n",
      "Greeks (Finite Differences):\n",
      "  Delta: -6.624400\n",
      "  Gamma: -1560156.761343\n",
      "  Vega: 37.686783\n",
      "  Theta: -20.315488\n",
      "  Rho: 51.189317\n",
      "\n",
      "Delta (pathwise method): 0.637394\n"
     ]
    }
   ],
   "source": [
    "print(\"--- Greeks Calculation ---\")\n",
    "\n",
    "greeks_engine = GreeksEngine(seed=42)\n",
    "\n",
    "# Define parameters for Greeks calculation\n",
    "params = {'S0': S0, 'K': K, 'T': T, 'r': r, 'sigma': sigma, 'M': M}\n",
    "\n",
    "# Calculate all Greeks using the central finite difference method\n",
    "all_greeks = greeks_engine.compute_all_greeks(\n",
    "    pricing_func=engine.european_call_mc,\n",
    "    params=params,\n",
    "    method='central'\n",
    ")\n",
    "print(\"Greeks (Finite Differences):\")\n",
    "for greek, value in all_greeks.items():\n",
    "    print(f\"  {greek.capitalize()}: {value:.6f}\")\n",
    "    \n",
    "# Calculate Delta using the pathwise method (more accurate for smooth options)\n",
    "pathwise_delta = greeks_engine.pathwise_delta(S0, K, T, r, sigma, 'call', M=M)\n",
    "print(f\"\\nDelta (pathwise method): {pathwise_delta:.6f}\")"
   ]
  },
  {
   "cell_type": "markdown",
   "id": "b91b7c9e",
   "metadata": {},
   "source": [
    "## 7. Convergence Analysis\n",
    "\n",
    "This final section shows how the accuracy of the Monte Carlo estimate improves as the number of simulations increases, demonstrating the convergence law of $O(1/\\sqrt{M})$."
   ]
  },
  {
   "cell_type": "code",
   "execution_count": 13,
   "id": "a083f1fa",
   "metadata": {},
   "outputs": [
    {
     "name": "stdout",
     "output_type": "stream",
     "text": [
      "--- Monte Carlo Convergence Analysis ---\n"
     ]
    },
    {
     "name": "stderr",
     "output_type": "stream",
     "text": [
      "/Users/samaberkane/Desktop/GitHub/montecarlo-optionpricing/pricing.py:48: UserWarning: M must be even for antithetic variates. Using M+1 simulations.\n",
      "  warnings.warn(\"M must be even for antithetic variates. Using M+1 simulations.\", UserWarning)\n"
     ]
    },
    {
     "ename": "KeyboardInterrupt",
     "evalue": "",
     "output_type": "error",
     "traceback": [
      "\u001b[0;31m---------------------------------------------------------------------------\u001b[0m",
      "\u001b[0;31mKeyboardInterrupt\u001b[0m                         Traceback (most recent call last)",
      "Cell \u001b[0;32mIn[13], line 13\u001b[0m\n\u001b[1;32m     10\u001b[0m true_price \u001b[38;5;241m=\u001b[39m black_scholes_call(S0, K, T, r, sigma)\n\u001b[1;32m     12\u001b[0m \u001b[38;5;66;03m# Analyze convergence\u001b[39;00m\n\u001b[0;32m---> 13\u001b[0m convergence_results \u001b[38;5;241m=\u001b[39m analyzer\u001b[38;5;241m.\u001b[39mmonte_carlo_convergence(\n\u001b[1;32m     14\u001b[0m     pricing_func\u001b[38;5;241m=\u001b[39mengine\u001b[38;5;241m.\u001b[39meuropean_call_mc,\n\u001b[1;32m     15\u001b[0m     true_price\u001b[38;5;241m=\u001b[39mtrue_price,\n\u001b[1;32m     16\u001b[0m     M_values\u001b[38;5;241m=\u001b[39mM_values,\n\u001b[1;32m     17\u001b[0m     n_trials\u001b[38;5;241m=\u001b[39mn_trials,\n\u001b[1;32m     18\u001b[0m     S0\u001b[38;5;241m=\u001b[39mS0, K\u001b[38;5;241m=\u001b[39mK, T\u001b[38;5;241m=\u001b[39mT, r\u001b[38;5;241m=\u001b[39mr, sigma\u001b[38;5;241m=\u001b[39msigma, antithetic\u001b[38;5;241m=\u001b[39m\u001b[38;5;28;01mTrue\u001b[39;00m\n\u001b[1;32m     19\u001b[0m )\n\u001b[1;32m     21\u001b[0m \u001b[38;5;66;03m# Plot the results\u001b[39;00m\n\u001b[1;32m     22\u001b[0m fig \u001b[38;5;241m=\u001b[39m analyzer\u001b[38;5;241m.\u001b[39mplot_convergence(convergence_results, true_price, title\u001b[38;5;241m=\u001b[39m\u001b[38;5;124m\"\u001b[39m\u001b[38;5;124mConvergence of European Option Price\u001b[39m\u001b[38;5;124m\"\u001b[39m)\n",
      "File \u001b[0;32m~/Desktop/GitHub/montecarlo-optionpricing/convergence_analysis.py:66\u001b[0m, in \u001b[0;36mConvergenceAnalyzer.monte_carlo_convergence\u001b[0;34m(self, pricing_func, true_price, M_values, n_trials, **kwargs)\u001b[0m\n\u001b[1;32m     62\u001b[0m kwargs_trial[\u001b[38;5;124m'\u001b[39m\u001b[38;5;124mM\u001b[39m\u001b[38;5;124m'\u001b[39m] \u001b[38;5;241m=\u001b[39m \u001b[38;5;28mint\u001b[39m(M)\n\u001b[1;32m     64\u001b[0m \u001b[38;5;28;01mfor\u001b[39;00m j \u001b[38;5;129;01min\u001b[39;00m \u001b[38;5;28mrange\u001b[39m(n_trials):\n\u001b[1;32m     65\u001b[0m     \u001b[38;5;66;03m# Call the pricing function\u001b[39;00m\n\u001b[0;32m---> 66\u001b[0m     price_result \u001b[38;5;241m=\u001b[39m pricing_func(\u001b[38;5;241m*\u001b[39m\u001b[38;5;241m*\u001b[39mkwargs_trial)\n\u001b[1;32m     68\u001b[0m     \u001b[38;5;66;03m# Handle tuple return (e.g., from control variates)\u001b[39;00m\n\u001b[1;32m     69\u001b[0m     \u001b[38;5;28;01mif\u001b[39;00m \u001b[38;5;28misinstance\u001b[39m(price_result, \u001b[38;5;28mtuple\u001b[39m):\n",
      "File \u001b[0;32m~/Desktop/GitHub/montecarlo-optionpricing/pricing.py:102\u001b[0m, in \u001b[0;36mMCPricingEngine.european_call_mc\u001b[0;34m(self, S0, K, T, r, sigma, N, M, antithetic, control_variate)\u001b[0m\n\u001b[1;32m     88\u001b[0m \u001b[38;5;28;01mdef\u001b[39;00m \u001b[38;5;21meuropean_call_mc\u001b[39m(\u001b[38;5;28mself\u001b[39m, \n\u001b[1;32m     89\u001b[0m                 S0: \u001b[38;5;28mfloat\u001b[39m, \n\u001b[1;32m     90\u001b[0m                 K: \u001b[38;5;28mfloat\u001b[39m, \n\u001b[0;32m   (...)\u001b[0m\n\u001b[1;32m     96\u001b[0m                 antithetic: \u001b[38;5;28mbool\u001b[39m \u001b[38;5;241m=\u001b[39m \u001b[38;5;28;01mTrue\u001b[39;00m,\n\u001b[1;32m     97\u001b[0m                 control_variate: \u001b[38;5;28mbool\u001b[39m \u001b[38;5;241m=\u001b[39m \u001b[38;5;28;01mFalse\u001b[39;00m) \u001b[38;5;241m-\u001b[39m\u001b[38;5;241m>\u001b[39m Union[\u001b[38;5;28mfloat\u001b[39m, Tuple[\u001b[38;5;28mfloat\u001b[39m, \u001b[38;5;28mfloat\u001b[39m]]:\n\u001b[1;32m     98\u001b[0m \u001b[38;5;250m    \u001b[39m\u001b[38;5;124;03m\"\"\"\u001b[39;00m\n\u001b[1;32m     99\u001b[0m \u001b[38;5;124;03m    Monte Carlo pricing of European call with optimized control variates\u001b[39;00m\n\u001b[1;32m    100\u001b[0m \u001b[38;5;124;03m    Using stock price as control with exact expectation\u001b[39;00m\n\u001b[1;32m    101\u001b[0m \u001b[38;5;124;03m    \"\"\"\u001b[39;00m\n\u001b[0;32m--> 102\u001b[0m     S \u001b[38;5;241m=\u001b[39m \u001b[38;5;28mself\u001b[39m\u001b[38;5;241m.\u001b[39msimulate_gbm_vectorized(S0, T, r, sigma, N, M, antithetic)\n\u001b[1;32m    103\u001b[0m     terminal_prices \u001b[38;5;241m=\u001b[39m S[:, \u001b[38;5;241m-\u001b[39m\u001b[38;5;241m1\u001b[39m]\n\u001b[1;32m    105\u001b[0m     \u001b[38;5;66;03m# Standard MC payoff\u001b[39;00m\n",
      "File \u001b[0;32m~/Desktop/GitHub/montecarlo-optionpricing/pricing.py:63\u001b[0m, in \u001b[0;36mMCPricingEngine.simulate_gbm_vectorized\u001b[0;34m(self, S0, T, r, sigma, N, M, antithetic)\u001b[0m\n\u001b[1;32m     60\u001b[0m log_returns \u001b[38;5;241m=\u001b[39m (r \u001b[38;5;241m-\u001b[39m \u001b[38;5;241m0.5\u001b[39m \u001b[38;5;241m*\u001b[39m sigma\u001b[38;5;241m*\u001b[39m\u001b[38;5;241m*\u001b[39m\u001b[38;5;241m2\u001b[39m) \u001b[38;5;241m*\u001b[39m dt \u001b[38;5;241m+\u001b[39m sigma \u001b[38;5;241m*\u001b[39m np\u001b[38;5;241m.\u001b[39msqrt(dt) \u001b[38;5;241m*\u001b[39m Z\n\u001b[1;32m     62\u001b[0m \u001b[38;5;66;03m# Calculate price paths\u001b[39;00m\n\u001b[0;32m---> 63\u001b[0m log_S \u001b[38;5;241m=\u001b[39m np\u001b[38;5;241m.\u001b[39mzeros((M, N\u001b[38;5;241m+\u001b[39m\u001b[38;5;241m1\u001b[39m))\n\u001b[1;32m     64\u001b[0m log_S[:, \u001b[38;5;241m0\u001b[39m] \u001b[38;5;241m=\u001b[39m np\u001b[38;5;241m.\u001b[39mlog(S0)\n\u001b[1;32m     65\u001b[0m log_S[:, \u001b[38;5;241m1\u001b[39m:] \u001b[38;5;241m=\u001b[39m np\u001b[38;5;241m.\u001b[39mlog(S0) \u001b[38;5;241m+\u001b[39m np\u001b[38;5;241m.\u001b[39mcumsum(log_returns, axis\u001b[38;5;241m=\u001b[39m\u001b[38;5;241m1\u001b[39m)\n",
      "\u001b[0;31mKeyboardInterrupt\u001b[0m: "
     ]
    }
   ],
   "source": [
    "print(\"--- Monte Carlo Convergence Analysis ---\")\n",
    "\n",
    "analyzer = ConvergenceAnalyzer(seed=42)\n",
    "\n",
    "# Define the number of simulations to test\n",
    "M_values = np.logspace(3, 6, 10, dtype=int)\n",
    "n_trials = 20  # Number of trials per M value for better statistics\n",
    "\n",
    "# Theoretical price for comparison\n",
    "true_price = black_scholes_call(S0, K, T, r, sigma)\n",
    "\n",
    "# Analyze convergence\n",
    "convergence_results = analyzer.monte_carlo_convergence(\n",
    "    pricing_func=engine.european_call_mc,\n",
    "    true_price=true_price,\n",
    "    M_values=M_values,\n",
    "    n_trials=n_trials,\n",
    "    S0=S0, K=K, T=T, r=r, sigma=sigma, antithetic=True\n",
    ")\n",
    "\n",
    "# Plot the results\n",
    "fig = analyzer.plot_convergence(convergence_results, true_price, title=\"Convergence of European Option Price\")\n",
    "plt.show(fig)"
   ]
  },
  {
   "cell_type": "markdown",
   "id": "6ecc584b",
   "metadata": {},
   "source": [
    "## 8. Variance Reduction Analysis (Quick Overview)"
   ]
  },
  {
   "cell_type": "code",
   "execution_count": 16,
   "id": "5f65ec1c",
   "metadata": {
    "scrolled": true
   },
   "outputs": [
    {
     "name": "stdout",
     "output_type": "stream",
     "text": [
      "--- Variance Reduction Analysis ---\n",
      "MC Variance without Control: 0.00098147\n",
      "MC Variance with Control: 0.00052959\n",
      "Variance Reduction: 1.85x\n",
      "Net Efficiency Gain: 1.86x\n"
     ]
    }
   ],
   "source": [
    "print(\"--- Variance Reduction Analysis ---\")\n",
    "\n",
    "cv_results = analyzer.control_variates_analysis(\n",
    "    pricing_func=engine.european_call_mc,\n",
    "    true_price=true_price,\n",
    "    M=M,\n",
    "    n_trials=50,\n",
    "    S0=S0, K=K, T=T, r=r, sigma=sigma, antithetic=True\n",
    ")\n",
    "\n",
    "print(f\"MC Variance without Control: {cv_results['plain_variance']:.8f}\")\n",
    "print(f\"MC Variance with Control: {cv_results['cv_variance']:.8f}\")\n",
    "print(f\"Variance Reduction: {cv_results['variance_reduction']:.2f}x\")\n",
    "print(f\"Net Efficiency Gain: {cv_results['efficiency']:.2f}x\")"
   ]
  },
  {
   "cell_type": "code",
   "execution_count": null,
   "id": "0f3fa022-49bd-4d8b-b717-6034ae8f4c7c",
   "metadata": {},
   "outputs": [],
   "source": []
  }
 ],
 "metadata": {
  "kernelspec": {
   "display_name": "Python 3",
   "language": "python",
   "name": "python3"
  },
  "language_info": {
   "codemirror_mode": {
    "name": "ipython",
    "version": 3
   },
   "file_extension": ".py",
   "mimetype": "text/x-python",
   "name": "python",
   "nbconvert_exporter": "python",
   "pygments_lexer": "ipython3",
   "version": "3.9.6"
  }
 },
 "nbformat": 4,
 "nbformat_minor": 5
}
